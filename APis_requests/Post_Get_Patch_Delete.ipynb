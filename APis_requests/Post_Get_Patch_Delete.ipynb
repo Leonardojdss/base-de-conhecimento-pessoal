{
 "cells": [
  {
   "cell_type": "markdown",
   "metadata": {},
   "source": [
    "# Pegar informações - GET"
   ]
  },
  {
   "cell_type": "code",
   "execution_count": 9,
   "metadata": {},
   "outputs": [
    {
     "name": "stdout",
     "output_type": "stream",
     "text": [
      "<Response [200]>\n",
      "{'USDBRL': {'code': 'USD', 'codein': 'BRL', 'name': 'Dólar Americano/Real Brasileiro', 'high': '5.4236', 'low': '5.4171', 'varBid': '-0.0041', 'pctChange': '-0.08', 'bid': '5.4177', 'ask': '5.4185', 'timestamp': '1720560588', 'create_date': '2024-07-09 18:29:48'}, 'EURBRL': {'code': 'EUR', 'codein': 'BRL', 'name': 'Euro/Real Brasileiro', 'high': '5.9218', 'low': '5.8549', 'varBid': '0.0669', 'pctChange': '1.14', 'bid': '5.8968', 'ask': '5.9468', 'timestamp': '1720575374', 'create_date': '2024-07-09 22:36:14'}, 'BTCBRL': {'code': 'BTC', 'codein': 'BRL', 'name': 'Bitcoin/Real Brasileiro', 'high': '318397', 'low': '311237', 'varBid': '3856', 'pctChange': '1.23', 'bid': '316085', 'ask': '316379', 'timestamp': '1720575383', 'create_date': '2024-07-09 22:36:23'}}\n"
     ]
    }
   ],
   "source": [
    "import requests \n",
    "\n",
    "# https://docs.awesomeapi.com.br/api-de-moedas\n",
    "\n",
    "requisicao = requests.get('https://economia.awesomeapi.com.br/last/USD-BRL,EUR-BRL,BTC-BRL')\n",
    "print(requisicao)\n",
    "print(requisicao.json())"
   ]
  },
  {
   "cell_type": "markdown",
   "metadata": {},
   "source": [
    "### Para realizar todos os teste com API, criei um banco de dados no firebase"
   ]
  },
  {
   "cell_type": "code",
   "execution_count": 13,
   "metadata": {},
   "outputs": [
    {
     "name": "stdout",
     "output_type": "stream",
     "text": [
      "<Response [200]>\n",
      "[None, {'idade': 25, 'nome': 'Leonardo', 'sexo': 'masculino'}, {'idade': 24, 'nome': 'Julia', 'sexo': 'feminino'}]\n"
     ]
    }
   ],
   "source": [
    "import requests \n",
    "\n",
    "# com meus proprios dados\n",
    "\n",
    "requisicao = requests.get('LINK_DO_SEU_FIREBASE/.json')\n",
    "print(requisicao)\n",
    "print(requisicao.json())"
   ]
  },
  {
   "cell_type": "markdown",
   "metadata": {},
   "source": [
    "# Criar informações - POST"
   ]
  },
  {
   "cell_type": "code",
   "execution_count": 17,
   "metadata": {},
   "outputs": [
    {
     "name": "stdout",
     "output_type": "stream",
     "text": [
      "<Response [200]>\n",
      "{'name': '-O1POcc2QiGF1DR1baBp'}\n"
     ]
    }
   ],
   "source": [
    "informacoes = '{\"idade\": 25}'\n",
    "\n",
    "# falta - \"nome\": \"Rebeca\", \"sexo\": \"Masculino\"\n",
    "\n",
    "requisicao = requests.post('LINK_DO_SEU_FIREBASE/.json', data=informacoes)\n",
    "print(requisicao)\n",
    "print(requisicao.json())\n"
   ]
  },
  {
   "cell_type": "markdown",
   "metadata": {},
   "source": [
    "# Editar informaçoes - PATCH"
   ]
  },
  {
   "cell_type": "code",
   "execution_count": 19,
   "metadata": {},
   "outputs": [
    {
     "name": "stdout",
     "output_type": "stream",
     "text": [
      "<Response [200]>\n",
      "{'idade': 31}\n"
     ]
    }
   ],
   "source": [
    "informacoes = '{\"idade\": 31}'\n",
    "\n",
    "requisicao = requests.patch('LINK_DO_SEU_FIREBASE/1.json', data=informacoes)\n",
    "print(requisicao)\n",
    "print(requisicao.json())"
   ]
  },
  {
   "cell_type": "markdown",
   "metadata": {},
   "source": [
    "# Editar informaçoes - DELETE"
   ]
  },
  {
   "cell_type": "code",
   "execution_count": 20,
   "metadata": {},
   "outputs": [
    {
     "name": "stdout",
     "output_type": "stream",
     "text": [
      "<Response [200]>\n",
      "None\n"
     ]
    }
   ],
   "source": [
    "requisicao = requests.delete('LINK_DO_SEU_FIREBASE/2.json')\n",
    "print(requisicao)\n",
    "print(requisicao.json())"
   ]
  }
 ],
 "metadata": {
  "kernelspec": {
   "display_name": "Python 3",
   "language": "python",
   "name": "python3"
  },
  "language_info": {
   "codemirror_mode": {
    "name": "ipython",
    "version": 3
   },
   "file_extension": ".py",
   "mimetype": "text/x-python",
   "name": "python",
   "nbconvert_exporter": "python",
   "pygments_lexer": "ipython3",
   "version": "3.10.12"
  }
 },
 "nbformat": 4,
 "nbformat_minor": 2
}
